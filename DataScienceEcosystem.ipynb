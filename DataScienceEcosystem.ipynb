{
 "cells": [
  {
   "cell_type": "markdown",
   "id": "a9d44253-5db9-40ce-b217-80622c2277ca",
   "metadata": {},
   "source": [
    "# Data Science Tools and Ecosystem"
   ]
  },
  {
   "cell_type": "markdown",
   "id": "7a6ea8e8-d731-45cf-8130-814dd5045a30",
   "metadata": {},
   "source": [
    "##### In this notebook, Data Science Tools and Ecosystem are summarized."
   ]
  },
  {
   "cell_type": "markdown",
   "id": "4ba4eb8e-1294-4172-a526-8ec46131d8c5",
   "metadata": {
    "tags": []
   },
   "source": [
    "***Some of the popular languages that Data Scientists use are:***\n",
    "1. Python\n",
    "2. R Language\n",
    "3. SQL\n",
    "4. Scala"
   ]
  },
  {
   "cell_type": "markdown",
   "id": "c77b5ab4-7e41-47dd-a9aa-a2390359450e",
   "metadata": {},
   "source": [
    "**Objectives:**\n",
    "- List popular languages for Data Science\n",
    "- List of Libraries for Data Science\n",
    "- List of Languages for Data Science\n",
    "- List of Open Source, Commericial and Cloud Tools for Data Science\n",
    "- Understanding of GIT, Juypter Notebook and Basic R Language"
   ]
  },
  {
   "cell_type": "markdown",
   "id": "3ba71af2-2d9a-4236-88a4-dc82386c7895",
   "metadata": {
    "tags": []
   },
   "source": [
    "***Some of the commonly used libraries used by Data Scientists include:***\n",
    "1. Pandas\n",
    "2. NumPy\n",
    "3. Tenserflow\n",
    "4. Scikit"
   ]
  },
  {
   "cell_type": "markdown",
   "id": "b4abaf77-736b-462c-94fe-e224a9c3b342",
   "metadata": {},
   "source": [
    "| Data Science Tools |\n",
    "|----------------------|\n",
    "| Pixie Dust |\n",
    "| MYSQL |\n",
    "| Apache AirFlow |\n",
    "| ModelDB |"
   ]
  },
  {
   "cell_type": "markdown",
   "id": "441c6edd-724e-4ad7-995e-476cc8df3060",
   "metadata": {},
   "source": [
    "### Below are a few examples of evaluating arithmetic expressions in Python"
   ]
  },
  {
   "cell_type": "code",
   "execution_count": 3,
   "id": "2e041986-c421-49bb-a494-15cd15893310",
   "metadata": {
    "tags": []
   },
   "outputs": [
    {
     "data": {
      "text/plain": [
       "17"
      ]
     },
     "execution_count": 3,
     "metadata": {},
     "output_type": "execute_result"
    }
   ],
   "source": [
    "# This a simple arithmetic expression to mutiply then add integers\n",
    "(3*4)+5"
   ]
  },
  {
   "cell_type": "code",
   "execution_count": 4,
   "id": "c9733f69-a044-4b46-a761-7dae38f08f4d",
   "metadata": {
    "tags": []
   },
   "outputs": [
    {
     "data": {
      "text/plain": [
       "3.3333333333333335"
      ]
     },
     "execution_count": 4,
     "metadata": {},
     "output_type": "execute_result"
    }
   ],
   "source": [
    "# This will convert 200 minutes to hours by diving by 60\n",
    "200 / 60"
   ]
  },
  {
   "cell_type": "markdown",
   "id": "96ea0ccf-8818-4408-b4d8-f519d446b6f8",
   "metadata": {},
   "source": [
    "## Author\n",
    "Ayuri Limje"
   ]
  },
  {
   "cell_type": "code",
   "execution_count": null,
   "id": "11efe7a0-1d91-4ce2-8840-3843f53fbfd0",
   "metadata": {},
   "outputs": [],
   "source": []
  }
 ],
 "metadata": {
  "kernelspec": {
   "display_name": "Python",
   "language": "python",
   "name": "conda-env-python-py"
  },
  "language_info": {
   "codemirror_mode": {
    "name": "ipython",
    "version": 3
   },
   "file_extension": ".py",
   "mimetype": "text/x-python",
   "name": "python",
   "nbconvert_exporter": "python",
   "pygments_lexer": "ipython3",
   "version": "3.7.12"
  }
 },
 "nbformat": 4,
 "nbformat_minor": 5
}
