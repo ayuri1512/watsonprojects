{
    "cells": [
        {
            "cell_type": "markdown",
            "metadata": {
                "collapsed": true
            },
            "source": "# My Jupyter Notebook on IBM Watson Studio"
        },
        {
            "cell_type": "markdown",
            "metadata": {},
            "source": "**Ayuri**\nData Scientist"
        },
        {
            "cell_type": "markdown",
            "metadata": {},
            "source": "*I am interested in data science because I like to work with huge number of data and gathering information, I am cursious about how things work which I will understand by reading and accumalating lots of data. Not only that but I like to Machine Learning, how ML works is an amzing thing to learn*"
        },
        {
            "cell_type": "markdown",
            "metadata": {},
            "source": "### My code will simple print the sum of 2 numbers"
        },
        {
            "cell_type": "code",
            "execution_count": 2,
            "metadata": {},
            "outputs": [
                {
                    "name": "stdout",
                    "output_type": "stream",
                    "text": "5\n"
                }
            ],
            "source": "result = 2 + 3\nprint(result)"
        },
        {
            "cell_type": "markdown",
            "metadata": {},
            "source": "***Bullet List***\n- Tiger\n- Lion\n- Elephant\n\n***Numbered List***\n1. Tiger\n2. Lion\n3. Elephant\n\n***Hyperlink***\n[Country Wikipedia](https://en.wikipedia.org/wiki/Country#:~:text=A%20country%20is%20a%20distinct,part%20of%20a%20larger%20state.)\n                    \n***Table***\n| Country | Capitals |\n|----------|----------|\n| India | New Delhi |\n| Canada | Ottawa |\n"
        },
        {
            "cell_type": "code",
            "execution_count": null,
            "metadata": {},
            "outputs": [],
            "source": ""
        }
    ],
    "metadata": {
        "kernelspec": {
            "display_name": "Python 3.10",
            "language": "python",
            "name": "python3"
        },
        "language_info": {
            "codemirror_mode": {
                "name": "ipython",
                "version": 3
            },
            "file_extension": ".py",
            "mimetype": "text/x-python",
            "name": "python",
            "nbconvert_exporter": "python",
            "pygments_lexer": "ipython3",
            "version": "3.10.13"
        }
    },
    "nbformat": 4,
    "nbformat_minor": 1
}